{
 "cells": [
  {
   "cell_type": "code",
   "execution_count": 1,
   "id": "7b5f2f6a-5615-48e4-9800-6cb85655bc39",
   "metadata": {},
   "outputs": [],
   "source": [
    "import numpy as np\n",
    "from multiprocessing import shared_memory\n",
    "import shared_array as sa\n"
   ]
  },
  {
   "cell_type": "code",
   "execution_count": 2,
   "id": "7a3f2713-956f-499d-a649-7c266d79cced",
   "metadata": {},
   "outputs": [
    {
     "name": "stdout",
     "output_type": "stream",
     "text": [
      "4\n"
     ]
    }
   ],
   "source": [
    "a = np.array([1.0], dtype = np.float32)# Start with an existing NumPy array\n",
    "print(a.nbytes)\n"
   ]
  },
  {
   "cell_type": "code",
   "execution_count": 3,
   "id": "c2285720-7df7-449f-83e5-ef1957d2ea71",
   "metadata": {},
   "outputs": [
    {
     "name": "stdout",
     "output_type": "stream",
     "text": [
      "[1.]\n"
     ]
    }
   ],
   "source": [
    "n = 8\n",
    "shm = shared_memory.SharedMemory(create=True, size=4*n) # float32 = 4, float64 = 8\n",
    "b = np.ndarray(n, dtype=np.float32, buffer=shm.buf)\n",
    "b[0] = 2\n",
    "print(a)"
   ]
  },
  {
   "cell_type": "code",
   "execution_count": 4,
   "id": "53b8dc82-f9d5-4a56-835e-743503d298f1",
   "metadata": {},
   "outputs": [
    {
     "name": "stdout",
     "output_type": "stream",
     "text": [
      "psm_fc1710a3\n"
     ]
    }
   ],
   "source": [
    "print(shm.name)"
   ]
  },
  {
   "cell_type": "code",
   "execution_count": null,
   "id": "4f4d8341-3e89-4849-8d19-0e976170d3fa",
   "metadata": {},
   "outputs": [],
   "source": []
  },
  {
   "cell_type": "code",
   "execution_count": 5,
   "id": "efd43e28-51a4-408c-b1f1-e7a89efac2b6",
   "metadata": {},
   "outputs": [],
   "source": [
    "myarr = sa.sharedArray([5,3])"
   ]
  },
  {
   "cell_type": "code",
   "execution_count": 6,
   "id": "daa6496e-7700-4b6d-910f-97eb3515f845",
   "metadata": {},
   "outputs": [
    {
     "data": {
      "text/plain": [
       "array([[0., 0., 0.],\n",
       "       [0., 0., 0.],\n",
       "       [0., 0., 0.],\n",
       "       [0., 0., 0.],\n",
       "       [0., 0., 0.]])"
      ]
     },
     "execution_count": 6,
     "metadata": {},
     "output_type": "execute_result"
    }
   ],
   "source": [
    "myarr[:,:]"
   ]
  },
  {
   "cell_type": "code",
   "execution_count": 7,
   "id": "73ba60fd-6254-4b56-9339-9da4f0705228",
   "metadata": {},
   "outputs": [],
   "source": [
    "myarr[:,:] = 10"
   ]
  },
  {
   "cell_type": "code",
   "execution_count": 8,
   "id": "921e3c3e-149e-4ed9-af23-97dbf886dadb",
   "metadata": {},
   "outputs": [
    {
     "name": "stdout",
     "output_type": "stream",
     "text": [
      "psm_1b8a59eb\n"
     ]
    }
   ],
   "source": [
    "print(myarr.handle.name)"
   ]
  },
  {
   "cell_type": "code",
   "execution_count": 9,
   "id": "95b7ec4d-57e0-4222-8177-0126f69a785f",
   "metadata": {},
   "outputs": [],
   "source": [
    "newarr = sa.sharedArray(myarr.handle)"
   ]
  },
  {
   "cell_type": "code",
   "execution_count": 10,
   "id": "2367c361-e514-4a19-82ae-c085c7623e8f",
   "metadata": {},
   "outputs": [
    {
     "name": "stdout",
     "output_type": "stream",
     "text": [
      "psm_1b8a59eb\n"
     ]
    }
   ],
   "source": [
    "print(newarr.handle.name)"
   ]
  },
  {
   "cell_type": "code",
   "execution_count": 11,
   "id": "64a0dddf-0e1a-46c6-9321-c72f4ac1f1f9",
   "metadata": {},
   "outputs": [
    {
     "name": "stdout",
     "output_type": "stream",
     "text": [
      "[[10. 10. 10.]\n",
      " [10. 10. 10.]\n",
      " [10. 10. 10.]\n",
      " [10. 10. 10.]\n",
      " [10. 10. 10.]]\n"
     ]
    }
   ],
   "source": [
    "print(newarr[:,:])"
   ]
  },
  {
   "cell_type": "code",
   "execution_count": 12,
   "id": "85be3c60-13e3-4f21-88e3-47ae186cd982",
   "metadata": {},
   "outputs": [],
   "source": [
    "newarr.close()"
   ]
  },
  {
   "cell_type": "code",
   "execution_count": 13,
   "id": "40db29d8-9407-4337-aee1-7c9dc73df551",
   "metadata": {},
   "outputs": [],
   "source": [
    "myarr.close()"
   ]
  },
  {
   "cell_type": "code",
   "execution_count": 14,
   "id": "21f06887-f6c6-4a97-b4a1-61479fd2d43f",
   "metadata": {},
   "outputs": [],
   "source": [
    "myarr.unlink()"
   ]
  },
  {
   "cell_type": "code",
   "execution_count": 15,
   "id": "5c4ae1b9-9588-4ce8-84f9-7d98aa4f9eff",
   "metadata": {},
   "outputs": [],
   "source": [
    "#mp.set_start_method('spawn')\n"
   ]
  },
  {
   "cell_type": "markdown",
   "id": "236d8a8f-7eb2-4ec9-9dee-68d5928b7e07",
   "metadata": {
    "tags": []
   },
   "source": [
    "# np array over queue"
   ]
  },
  {
   "cell_type": "code",
   "execution_count": 16,
   "id": "8afaa441-2490-4949-b14b-b81b2211fd0b",
   "metadata": {},
   "outputs": [
    {
     "name": "stdout",
     "output_type": "stream",
     "text": [
      "450000000.0\n",
      "time = 7.683 np array over queue\n"
     ]
    }
   ],
   "source": [
    "import multiprocessing as mp\n",
    "import shared_array as sa\n",
    "\n",
    "def foo(send_q,return_q):\n",
    "    import shared_array as sa\n",
    "    s = 0.0\n",
    "    while True:\n",
    "        call_arr = send_q.get()\n",
    "        if call_arr[0] =='array':\n",
    "            arr = call_arr[1]\n",
    "            s += np.sum(arr[:])\n",
    "        else:\n",
    "            return_q.put(s)\n",
    "            break\n",
    "\n",
    "            \n",
    "send_q = mp.Queue()\n",
    "return_q = mp.Queue()\n",
    "p = mp.Process(target=foo, args=(send_q,return_q))\n",
    "p.start()\n",
    "import time\n",
    "t0 = time.time()\n",
    "for i in range(30):\n",
    "    myarr = np.empty([5000,3000], float)\n",
    "    myarr[:,:] = 1\n",
    "    send_q.put(('array',myarr))\n",
    "send_q.put(('done'))\n",
    "\n",
    "\n",
    "print(return_q.get())\n",
    "p.join()\n",
    "t1 = time.time()\n",
    "new_np_time = t1-t0\n",
    "print(f'time = {t1-t0:.3f} np array over queue')"
   ]
  },
  {
   "cell_type": "markdown",
   "id": "973045e4-6ab1-45b7-b7bb-87fa2a05e8be",
   "metadata": {
    "tags": []
   },
   "source": [
    "# same np array over queue"
   ]
  },
  {
   "cell_type": "code",
   "execution_count": 17,
   "id": "de0e4629-6616-4d4f-95f2-ea57b2eea614",
   "metadata": {},
   "outputs": [
    {
     "name": "stdout",
     "output_type": "stream",
     "text": [
      "450000000.0\n",
      "time = 7.639 same np array over queue\n"
     ]
    }
   ],
   "source": [
    "import multiprocessing as mp\n",
    "import shared_array as sa\n",
    "\n",
    "def foo(send_q,return_q):\n",
    "    import shared_array as sa\n",
    "    s = 0.0\n",
    "    while True:\n",
    "        call_arr = send_q.get()\n",
    "        if call_arr[0] =='array':\n",
    "            arr = call_arr[1]\n",
    "            s += np.sum(arr[:])\n",
    "        else:\n",
    "            return_q.put(s)\n",
    "            break\n",
    "\n",
    "            \n",
    "send_q = mp.Queue()\n",
    "return_q = mp.Queue()\n",
    "p = mp.Process(target=foo, args=(send_q,return_q))\n",
    "p.start()\n",
    "import time\n",
    "t0 = time.time()\n",
    "myarr = np.empty([5000,3000], float)\n",
    "myarr[:,:] = 1\n",
    "for i in range(30):\n",
    "    send_q.put(('array',myarr))\n",
    "send_q.put(('done'))\n",
    "\n",
    "\n",
    "print(return_q.get())\n",
    "p.join()\n",
    "t1 = time.time()\n",
    "same_np_time = t1-t0\n",
    "print(f'time = {t1-t0:.3f} same np array over queue')"
   ]
  },
  {
   "cell_type": "markdown",
   "id": "19898d39-7726-4177-b2a4-cd76052b6847",
   "metadata": {
    "tags": []
   },
   "source": [
    "# new shared array handle over queue"
   ]
  },
  {
   "cell_type": "code",
   "execution_count": 18,
   "id": "92de3c9b-8291-451f-9954-06c8bb253844",
   "metadata": {},
   "outputs": [
    {
     "name": "stdout",
     "output_type": "stream",
     "text": [
      "450000000.0\n",
      "time = 1.935 new shared array handle over queue\n"
     ]
    }
   ],
   "source": [
    "import multiprocessing as mp\n",
    "import shared_array as sa\n",
    "\n",
    "def foo(send_q,return_q):\n",
    "    import shared_array as sa\n",
    "    s = 0.0\n",
    "    while True:\n",
    "        call_handle = send_q.get()\n",
    "        if call_handle[0] =='array':\n",
    "            handle = call_handle[1]\n",
    "            arr = sa.sharedArray(handle)\n",
    "            s += np.sum(arr[:])\n",
    "            arr.close()\n",
    "            arr.unlink()\n",
    "        else:\n",
    "            return_q.put(s)\n",
    "            break\n",
    "\n",
    "            \n",
    "send_q = mp.Queue()\n",
    "return_q = mp.Queue()\n",
    "p = mp.Process(target=foo, args=(send_q,return_q))\n",
    "p.start()\n",
    "import time\n",
    "t0 = time.time()\n",
    "for i in range(30):\n",
    "    myarr = sa.sharedArray([5000,3000], float)\n",
    "    myarr[:,:] = 1\n",
    "    send_q.put(('array',myarr.handle))\n",
    "    myarr.close()\n",
    "send_q.put(('done'))\n",
    "\n",
    "print(return_q.get())\n",
    "p.join()\n",
    "t1 = time.time()\n",
    "new_shared_time = t1-t0\n",
    "print(f'time = {t1-t0:.3f} new shared array handle over queue')"
   ]
  },
  {
   "cell_type": "markdown",
   "id": "79225f3a-e895-4cac-9f74-4e0bce76cdc7",
   "metadata": {
    "tags": []
   },
   "source": [
    "# same shared array handle over queue"
   ]
  },
  {
   "cell_type": "code",
   "execution_count": 19,
   "id": "9c66b5c7-0880-4810-9b46-bfae01a8c005",
   "metadata": {},
   "outputs": [
    {
     "name": "stdout",
     "output_type": "stream",
     "text": [
      "450000000.0\n",
      "time = 0.826 same shared array handle over queue\n"
     ]
    }
   ],
   "source": [
    "import multiprocessing as mp\n",
    "import shared_array as sa\n",
    "\n",
    "def foo(send_q,return_q):\n",
    "    import shared_array as sa\n",
    "    s = 0.0\n",
    "    while True:\n",
    "        call_handle = send_q.get()\n",
    "        if call_handle[0] =='array':\n",
    "            handle = call_handle[1]\n",
    "            arr = sa.sharedArray(handle)\n",
    "            s += np.sum(arr[:])\n",
    "            arr.close()\n",
    "            #arr.unlink()\n",
    "        else:\n",
    "            return_q.put(s)\n",
    "            break\n",
    "\n",
    "            \n",
    "send_q = mp.Queue()\n",
    "return_q = mp.Queue()\n",
    "p = mp.Process(target=foo, args=(send_q,return_q))\n",
    "p.start()\n",
    "import time\n",
    "t0 = time.time()\n",
    "myarr = sa.sharedArray([5000,3000], float)\n",
    "for i in range(30):\n",
    "    myarr[:,:] = 1\n",
    "    send_q.put(('array',myarr.handle))\n",
    "myarr.close()\n",
    "send_q.put(('done'))\n",
    "print(return_q.get())\n",
    "myarr.unlink()\n",
    "p.join()\n",
    "t1 = time.time()\n",
    "same_shared_time = t1-t0\n",
    "print(f'time = {t1-t0:.3f} same shared array handle over queue')"
   ]
  },
  {
   "cell_type": "code",
   "execution_count": 20,
   "id": "5b5caad7-3481-4171-812d-bf350bff1e50",
   "metadata": {},
   "outputs": [
    {
     "name": "stdout",
     "output_type": "stream",
     "text": [
      "time = 7.683 s new np array over queue\n",
      "time = 7.639 s same np array over queue\n",
      "time = 1.935 s new shared array handle over queue\n",
      "time = 0.826 s same shared array handle over queue\n"
     ]
    }
   ],
   "source": [
    "\n",
    "print(f'time = {new_np_time:.3f} s new np array over queue')\n",
    "print(f'time = {same_np_time:.3f} s same np array over queue')\n",
    "print(f'time = {new_shared_time:.3f} s new shared array handle over queue')\n",
    "print(f'time = {same_shared_time:.3f} s same shared array handle over queue')"
   ]
  },
  {
   "cell_type": "code",
   "execution_count": null,
   "id": "71adb11c-bed8-4ac5-8ffb-930f544f9a61",
   "metadata": {},
   "outputs": [],
   "source": []
  }
 ],
 "metadata": {
  "kernelspec": {
   "display_name": "Python 3 (ipykernel)",
   "language": "python",
   "name": "python3"
  },
  "language_info": {
   "codemirror_mode": {
    "name": "ipython",
    "version": 3
   },
   "file_extension": ".py",
   "mimetype": "text/x-python",
   "name": "python",
   "nbconvert_exporter": "python",
   "pygments_lexer": "ipython3",
   "version": "3.8.10"
  }
 },
 "nbformat": 4,
 "nbformat_minor": 5
}
